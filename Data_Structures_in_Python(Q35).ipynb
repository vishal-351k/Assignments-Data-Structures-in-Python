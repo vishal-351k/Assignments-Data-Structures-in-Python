{
  "nbformat": 4,
  "nbformat_minor": 0,
  "metadata": {
    "colab": {
      "provenance": [],
      "include_colab_link": true
    },
    "kernelspec": {
      "name": "python3",
      "display_name": "Python 3"
    },
    "language_info": {
      "name": "python"
    }
  },
  "cells": [
    {
      "cell_type": "markdown",
      "metadata": {
        "id": "view-in-github",
        "colab_type": "text"
      },
      "source": [
        "<a href=\"https://colab.research.google.com/github/nehashukla91/-Python---Data-Structure/blob/main/Copy_of_Assignments_Data_Structures_in_Python(Q35).ipynb\" target=\"_parent\"><img src=\"https://colab.research.google.com/assets/colab-badge.svg\" alt=\"Open In Colab\"/></a>"
      ]
    },
    {
      "cell_type": "markdown",
      "source": [
        "# **Assignments: Data Structures in Python**"
      ],
      "metadata": {
        "id": "_dI_5jz1Omkx"
      }
    },
    {
      "cell_type": "markdown",
      "source": [
        "**Q1- Write a code to reverse a string.**"
      ],
      "metadata": {
        "id": "sIf4VZUUPJlu"
      }
    },
    {
      "cell_type": "code",
      "source": [
        "strings = \"Adnan\",\"Qazi\",\"student\",\"pwskills\"\n",
        "reversed_strings = tuple(s[::-1] for s in strings)\n",
        "print(reversed_strings)"
      ],
      "metadata": {
        "colab": {
          "base_uri": "https://localhost:8080/"
        },
        "id": "EX5aoiMTOy86",
        "outputId": "d767cff0-2213-413a-996d-368651df8f34"
      },
      "execution_count": null,
      "outputs": [
        {
          "output_type": "stream",
          "name": "stdout",
          "text": [
            "('nandA', 'izaQ', 'tneduts', 'sllikswp')\n"
          ]
        }
      ]
    },
    {
      "cell_type": "markdown",
      "source": [
        "**Q2- Write a code to count the number of vowels in a string.**"
      ],
      "metadata": {
        "id": "jx4V3MsJZhER"
      }
    },
    {
      "cell_type": "code",
      "source": [
        "string = \"Lucknow and Delhi\"\n",
        "vowels = \"aeiouAEIOU\"\n",
        "\n",
        "count = sum(string.count(vowel) for vowel in vowels)\n",
        "print(count)"
      ],
      "metadata": {
        "colab": {
          "base_uri": "https://localhost:8080/"
        },
        "id": "nA9jDSnuaZON",
        "outputId": "4cedcbcf-e8dc-4f1d-a33b-aa1dbc45583e"
      },
      "execution_count": null,
      "outputs": [
        {
          "output_type": "stream",
          "name": "stdout",
          "text": [
            "5\n"
          ]
        }
      ]
    },
    {
      "cell_type": "markdown",
      "source": [
        "**Q3- Write a code to check if a given string is a palindrome or not.**"
      ],
      "metadata": {
        "id": "VvRVNkNJeSuQ"
      }
    },
    {
      "cell_type": "code",
      "source": [
        "import re\n",
        "\n",
        "def is_palindrome(s):\n",
        "    # Remove non-alphanumeric characters and convert to lowercase\n",
        "    cleaned_str = re.sub(r'[^a-zA-Z0-9]', '', s).lower()\n",
        "\n",
        "    # Check if the cleaned string reads the same forwards and backwards\n",
        "    return cleaned_str == cleaned_str[::-1]\n",
        "\n",
        "# Example usage\n",
        "input_string = \"A man, a plan, a canal, Panama!\"\n",
        "if is_palindrome(input_string):\n",
        "    print(f'\"{input_string}\" is a palindrome.')\n",
        "else:\n",
        "    print(f'\"{input_string}\" is not a palindrome.')"
      ],
      "metadata": {
        "colab": {
          "base_uri": "https://localhost:8080/"
        },
        "id": "2pkH__RgeTlA",
        "outputId": "2ae2cf24-2323-4baa-8342-a950730b4777"
      },
      "execution_count": null,
      "outputs": [
        {
          "output_type": "stream",
          "name": "stdout",
          "text": [
            "\"A man, a plan, a canal, Panama!\" is a palindrome.\n"
          ]
        }
      ]
    },
    {
      "cell_type": "markdown",
      "source": [
        " **Q4- Write a code to check if two given strings are anagrams of each other.**"
      ],
      "metadata": {
        "id": "hziap1sCepdb"
      }
    },
    {
      "cell_type": "code",
      "source": [
        "def are_anagrams(str1, str2):\n",
        "    # Remove any whitespace and convert to lowercase\n",
        "    str1 = str1.replace(\" \", \"\").lower()\n",
        "    str2 = str2.replace(\" \", \"\").lower()\n",
        "\n",
        "    # Sort the characters in both strings and compare\n",
        "    return sorted(str1) == sorted(str2)\n",
        "\n",
        "# Example usage\n",
        "string1 = \"Listen\"\n",
        "string2 = \"Silent\"\n",
        "print(are_anagrams(string1, string2))"
      ],
      "metadata": {
        "colab": {
          "base_uri": "https://localhost:8080/"
        },
        "id": "emcWv47g8sGn",
        "outputId": "ad9fa357-d032-44e1-b794-aa192bf85dcd"
      },
      "execution_count": null,
      "outputs": [
        {
          "output_type": "stream",
          "name": "stdout",
          "text": [
            "True\n"
          ]
        }
      ]
    },
    {
      "cell_type": "markdown",
      "source": [
        "**Q5- Write a code to find all occurrences of a given substring within another string.**"
      ],
      "metadata": {
        "id": "ml6KawhX9si2"
      }
    },
    {
      "cell_type": "code",
      "source": [
        "def find_all_occurrences(main_string, substring):\n",
        "    occurrences = []\n",
        "    start = 0\n",
        "\n",
        "    while True:\n",
        "        start = main_string.find(substring, start)\n",
        "        if start == -1:\n",
        "            break\n",
        "        occurrences.append(start)\n",
        "        start += 1  # Move to the next character after the found occurrence\n",
        "\n",
        "    return occurrences\n",
        "\n",
        "# Example usage\n",
        "main_string = \"This is a test string. This is another test.\"\n",
        "substring = \"test\"\n",
        "result = find_all_occurrences(main_string, substring)\n",
        "print(result)"
      ],
      "metadata": {
        "colab": {
          "base_uri": "https://localhost:8080/"
        },
        "id": "UKUaoKIUAEaR",
        "outputId": "3538171d-c8a1-45ed-acb9-db274dd54cc9"
      },
      "execution_count": null,
      "outputs": [
        {
          "output_type": "stream",
          "name": "stdout",
          "text": [
            "[10, 39]\n"
          ]
        }
      ]
    },
    {
      "cell_type": "markdown",
      "source": [
        "**Q6- Write a code to perform basic string compression using the counts of repeated characters.**"
      ],
      "metadata": {
        "id": "I_GB0XBkAo4Q"
      }
    },
    {
      "cell_type": "code",
      "source": [
        "def compress_string(input_string):\n",
        "    if not input_string:\n",
        "        return \"\"\n",
        "\n",
        "    compressed = []\n",
        "    count = 1\n",
        "\n",
        "    for i in range(1, len(input_string)):\n",
        "        if input_string[i] == input_string[i - 1]:\n",
        "            count += 1\n",
        "        else:\n",
        "            compressed.append(input_string[i - 1] + str(count))\n",
        "            count = 1\n",
        "\n",
        "    # Add the last character and its count\n",
        "    compressed.append(input_string[-1] + str(count))\n",
        "\n",
        "    # Join the compressed parts and return\n",
        "    compressed_string = ''.join(compressed)\n",
        "\n",
        "    # Return the original string if compression doesn't make it shorter\n",
        "    return compressed_string if len(compressed_string) < len(input_string) else input_string\n",
        "\n",
        "# Example usage\n",
        "input_str = \"aaabbcdddde\"\n",
        "compressed_str = compress_string(input_str)\n",
        "print(compressed_str)"
      ],
      "metadata": {
        "colab": {
          "base_uri": "https://localhost:8080/"
        },
        "id": "t6tZ0T6tBwEg",
        "outputId": "d3858777-7207-4290-b49e-ad072be8b0cd"
      },
      "execution_count": null,
      "outputs": [
        {
          "output_type": "stream",
          "name": "stdout",
          "text": [
            "a3b2c1d4e1\n"
          ]
        }
      ]
    },
    {
      "cell_type": "markdown",
      "source": [
        "**Q7- Write a code to determine if a string has all unique characters.**"
      ],
      "metadata": {
        "id": "q9lq788yCDko"
      }
    },
    {
      "cell_type": "code",
      "source": [
        "def has_unique_characters(input_string):\n",
        "    # Use a set to track seen characters\n",
        "    seen_characters = set()\n",
        "\n",
        "    for char in input_string:\n",
        "        if char in seen_characters:\n",
        "            return False  # Character is repeated\n",
        "        seen_characters.add(char)\n",
        "\n",
        "    return True  # All characters are unique\n",
        "\n",
        "# Example usage\n",
        "input_str = \"abcdefg\"\n",
        "print(has_unique_characters(input_str))\n",
        "\n",
        "input_str2 = \"hello\"\n",
        "print(has_unique_characters(input_str2))"
      ],
      "metadata": {
        "colab": {
          "base_uri": "https://localhost:8080/"
        },
        "id": "5kojm0mvCKQ9",
        "outputId": "d16aa204-16d6-4653-e76f-1ed21e09bb1e"
      },
      "execution_count": null,
      "outputs": [
        {
          "output_type": "stream",
          "name": "stdout",
          "text": [
            "True\n",
            "False\n"
          ]
        }
      ]
    },
    {
      "cell_type": "markdown",
      "source": [
        "**Q8- Write a code to convert a given string to uppercase or lowercase.**"
      ],
      "metadata": {
        "id": "lnK91f5LCqqu"
      }
    },
    {
      "cell_type": "code",
      "source": [
        "def convert_case(input_string, to_upper=True):\n",
        "    if to_upper:\n",
        "        return input_string.upper()\n",
        "    else:\n",
        "        return input_string.lower()\n",
        "\n",
        "# Example usage\n",
        "input_str = \"Hello, World!\"\n",
        "\n",
        "# Convert to uppercase\n",
        "upper_str = convert_case(input_str, to_upper=True)\n",
        "print(upper_str)\n",
        "\n",
        "# Convert to lowercase\n",
        "lower_str = convert_case(input_str, to_upper=False)\n",
        "print(lower_str)"
      ],
      "metadata": {
        "colab": {
          "base_uri": "https://localhost:8080/"
        },
        "id": "xPONAP_7Cx20",
        "outputId": "7fe88e13-12c9-4f25-de55-6836a5d19348"
      },
      "execution_count": null,
      "outputs": [
        {
          "output_type": "stream",
          "name": "stdout",
          "text": [
            "HELLO, WORLD!\n",
            "hello, world!\n"
          ]
        }
      ]
    },
    {
      "cell_type": "markdown",
      "source": [
        "**Q9- Write a code to count the number of words in a string.**"
      ],
      "metadata": {
        "id": "u24lJsu8C87-"
      }
    },
    {
      "cell_type": "code",
      "source": [
        "def count_words(input_string):\n",
        "    # Split the string by whitespace and filter out empty strings\n",
        "    words = input_string.split()\n",
        "    return len(words)\n",
        "\n",
        "# Example usage\n",
        "input_str = \"This is an example string with seven words.\"\n",
        "word_count = count_words(input_str)\n",
        "print(word_count)"
      ],
      "metadata": {
        "colab": {
          "base_uri": "https://localhost:8080/"
        },
        "id": "HAMi7KyqDJku",
        "outputId": "3a07cf6d-195b-4cab-ba49-44780c9026f5"
      },
      "execution_count": null,
      "outputs": [
        {
          "output_type": "stream",
          "name": "stdout",
          "text": [
            "8\n"
          ]
        }
      ]
    },
    {
      "cell_type": "markdown",
      "source": [
        "**Q10- Write a code to concatenate two strings without using the + operator.**"
      ],
      "metadata": {
        "id": "__XoJeSIDOVM"
      }
    },
    {
      "cell_type": "code",
      "source": [
        "def concatenate_strings(str1, str2):\n",
        "    # Use join method to concatenate strings\n",
        "    return ''.join([str1, str2])\n",
        "\n",
        "# Example usage\n",
        "string1 = \"Hello, \"\n",
        "string2 = \"World!\"\n",
        "result = concatenate_strings(string1, string2)\n",
        "print(result)"
      ],
      "metadata": {
        "colab": {
          "base_uri": "https://localhost:8080/"
        },
        "id": "kdPKeYr5DYVO",
        "outputId": "bf41d18b-4cd8-4773-80af-c9c4d7bc3baf"
      },
      "execution_count": null,
      "outputs": [
        {
          "output_type": "stream",
          "name": "stdout",
          "text": [
            "Hello, World!\n"
          ]
        }
      ]
    },
    {
      "cell_type": "markdown",
      "source": [
        "**Q11- Write a code to remove all occurrences of a specific element from a list.**"
      ],
      "metadata": {
        "id": "TKpRxYL2DwY7"
      }
    },
    {
      "cell_type": "code",
      "source": [
        "def remove_occurrences(lst, element):\n",
        "    # Use a list comprehension to create a new list without the specified element\n",
        "    return [item for item in lst if item != element]\n",
        "\n",
        "# Example usage\n",
        "my_list = [1, 2, 3, 4, 2, 5, 2]\n",
        "element_to_remove = 2\n",
        "result = remove_occurrences(my_list, element_to_remove)\n",
        "print(result)"
      ],
      "metadata": {
        "colab": {
          "base_uri": "https://localhost:8080/"
        },
        "id": "ZkmUfnuaD4Xi",
        "outputId": "a02a8d0f-263b-4948-a2e5-df312b1f3532"
      },
      "execution_count": null,
      "outputs": [
        {
          "output_type": "stream",
          "name": "stdout",
          "text": [
            "[1, 3, 4, 5]\n"
          ]
        }
      ]
    },
    {
      "cell_type": "markdown",
      "source": [
        "**Q12- Implement a code to find the second largest number in a given list of integers.**"
      ],
      "metadata": {
        "id": "DGgqVYw6D-OW"
      }
    },
    {
      "cell_type": "code",
      "source": [
        "def second_largest(numbers):\n",
        "    if len(numbers) < 2:\n",
        "        return None  # Not enough elements for a second largest\n",
        "\n",
        "    first, second = float('-inf'), float('-inf')\n",
        "\n",
        "    for number in numbers:\n",
        "        if number > first:\n",
        "            second = first\n",
        "            first = number\n",
        "        elif first > number > second:\n",
        "            second = number\n",
        "\n",
        "    return second if second != float('-inf') else None\n",
        "\n",
        "# Example usage\n",
        "my_list = [5, 3, 9, 1, 7]\n",
        "result = second_largest(my_list)\n",
        "print(result)"
      ],
      "metadata": {
        "colab": {
          "base_uri": "https://localhost:8080/"
        },
        "id": "2uavD6n3EHZm",
        "outputId": "2b6a8c53-d969-4f43-9be6-9bdcad30a26f"
      },
      "execution_count": null,
      "outputs": [
        {
          "output_type": "stream",
          "name": "stdout",
          "text": [
            "7\n"
          ]
        }
      ]
    },
    {
      "cell_type": "markdown",
      "source": [
        "**Q13- Create a code to count the occurrences of each element in a list and return a dictionary with elements as\n",
        "keys and their counts as values.**"
      ],
      "metadata": {
        "id": "JRojmrg8EOq-"
      }
    },
    {
      "cell_type": "code",
      "source": [
        "def count_occurrences(lst):\n",
        "    counts = {}\n",
        "\n",
        "    for element in lst:\n",
        "        if element in counts:\n",
        "            counts[element] += 1\n",
        "        else:\n",
        "            counts[element] = 1\n",
        "\n",
        "    return counts\n",
        "\n",
        "# Example usage\n",
        "my_list = ['apple', 'banana', 'apple', 'orange', 'banana', 'banana']\n",
        "result = count_occurrences(my_list)\n",
        "print(result)"
      ],
      "metadata": {
        "colab": {
          "base_uri": "https://localhost:8080/"
        },
        "id": "8FeToD61EaaP",
        "outputId": "7e190702-6698-4e8a-b2e3-43b3b06186bd"
      },
      "execution_count": null,
      "outputs": [
        {
          "output_type": "stream",
          "name": "stdout",
          "text": [
            "{'apple': 2, 'banana': 3, 'orange': 1}\n"
          ]
        }
      ]
    },
    {
      "cell_type": "markdown",
      "source": [
        "**Q14- Write a code to reverse a list in-place without using any built-in reverse functions.**"
      ],
      "metadata": {
        "id": "64Vuq21cEjY9"
      }
    },
    {
      "cell_type": "code",
      "source": [
        "def reverse_list(lst):\n",
        "    left, right = 0, len(lst) - 1\n",
        "\n",
        "    while left < right:\n",
        "        # Swap elements\n",
        "        lst[left], lst[right] = lst[right], lst[left]\n",
        "        left += 1\n",
        "        right -= 1\n",
        "\n",
        "# Example usage\n",
        "my_list = [1, 2, 3, 4, 5]\n",
        "reverse_list(my_list)\n",
        "print(my_list)"
      ],
      "metadata": {
        "colab": {
          "base_uri": "https://localhost:8080/"
        },
        "id": "qXKHwbSqEpgI",
        "outputId": "d5980da5-921c-4ad0-dad4-1f7f7ebc63c3"
      },
      "execution_count": null,
      "outputs": [
        {
          "output_type": "stream",
          "name": "stdout",
          "text": [
            "[5, 4, 3, 2, 1]\n"
          ]
        }
      ]
    },
    {
      "cell_type": "markdown",
      "source": [
        "**Q15- Implement a code to find and remove duplicates from a list while preserving the original order of elements.**"
      ],
      "metadata": {
        "id": "ddjCaEsCFhJ5"
      }
    },
    {
      "cell_type": "code",
      "source": [
        "def remove_duplicates(lst):\n",
        "    seen = set()\n",
        "    result = []\n",
        "\n",
        "    for item in lst:\n",
        "        if item not in seen:\n",
        "            seen.add(item)\n",
        "            result.append(item)\n",
        "\n",
        "    return result\n",
        "\n",
        "# Example usage\n",
        "my_list = [1, 2, 3, 2, 4, 3, 5]\n",
        "result = remove_duplicates(my_list)\n",
        "print(result)"
      ],
      "metadata": {
        "colab": {
          "base_uri": "https://localhost:8080/"
        },
        "id": "vgEyHlnXGc3g",
        "outputId": "ed1a1bd0-5a2f-4c78-aeeb-ad6c2f3b48d4"
      },
      "execution_count": null,
      "outputs": [
        {
          "output_type": "stream",
          "name": "stdout",
          "text": [
            "[1, 2, 3, 4, 5]\n"
          ]
        }
      ]
    },
    {
      "cell_type": "markdown",
      "source": [
        "**Q16- Create a code to check if a given list is sorted (either in ascending or descending order) or not.**"
      ],
      "metadata": {
        "id": "eoMdOUo8HBce"
      }
    },
    {
      "cell_type": "code",
      "source": [
        "def is_sorted(lst):\n",
        "    if len(lst) < 2:\n",
        "        return True  # A list with 0 or 1 element is considered sorted\n",
        "\n",
        "    ascending = all(lst[i] <= lst[i + 1] for i in range(len(lst) - 1))\n",
        "    descending = all(lst[i] >= lst[i + 1] for i in range(len(lst) - 1))\n",
        "\n",
        "    return ascending or descending\n",
        "\n",
        "# Example usage\n",
        "my_list = [1, 2, 3, 4, 5]\n",
        "print(is_sorted(my_list))\n",
        "\n",
        "my_list = [5, 4, 3, 2, 1]\n",
        "print(is_sorted(my_list))\n",
        "\n",
        "my_list = [1, 3, 2, 4]\n",
        "print(is_sorted(my_list))"
      ],
      "metadata": {
        "colab": {
          "base_uri": "https://localhost:8080/"
        },
        "id": "kNb22kThHMnH",
        "outputId": "a70fc82c-dd9b-4cc7-bf98-a865ca207521"
      },
      "execution_count": null,
      "outputs": [
        {
          "output_type": "stream",
          "name": "stdout",
          "text": [
            "True\n",
            "True\n",
            "False\n"
          ]
        }
      ]
    },
    {
      "cell_type": "markdown",
      "source": [
        "**Q17- Write a code to merge two sorted lists into a single sorted list.**"
      ],
      "metadata": {
        "id": "NJrLaeU5Hv9O"
      }
    },
    {
      "cell_type": "code",
      "source": [
        "def merge_sorted_lists(list1, list2):\n",
        "    merged_list = []\n",
        "    i, j = 0, 0\n",
        "\n",
        "    # Loop until we reach the end of either list\n",
        "    while i < len(list1) and j < len(list2):\n",
        "        if list1[i] < list2[j]:\n",
        "            merged_list.append(list1[i])\n",
        "            i += 1\n",
        "        else:\n",
        "            merged_list.append(list2[j])\n",
        "            j += 1\n",
        "\n",
        "    # Append any remaining elements from list1\n",
        "    while i < len(list1):\n",
        "        merged_list.append(list1[i])\n",
        "        i += 1\n",
        "\n",
        "    # Append any remaining elements from list2\n",
        "    while j < len(list2):\n",
        "        merged_list.append(list2[j])\n",
        "        j += 1\n",
        "\n",
        "    return merged_list\n",
        "\n",
        "# Example usage:\n",
        "list1 = [1, 3, 5]\n",
        "list2 = [2, 4, 6]\n",
        "merged = merge_sorted_lists(list1, list2)\n",
        "print(merged)"
      ],
      "metadata": {
        "colab": {
          "base_uri": "https://localhost:8080/"
        },
        "id": "NwbHnRDRH1nB",
        "outputId": "bd99f95b-8b6a-4999-9ecf-17033dc64f52"
      },
      "execution_count": null,
      "outputs": [
        {
          "output_type": "stream",
          "name": "stdout",
          "text": [
            "[1, 2, 3, 4, 5, 6]\n"
          ]
        }
      ]
    },
    {
      "cell_type": "markdown",
      "source": [
        "**Q18- Implement a code to find the intersection of two given lists.**"
      ],
      "metadata": {
        "id": "woPlNGHYIp6l"
      }
    },
    {
      "cell_type": "code",
      "source": [
        "def intersection(list1, list2):\n",
        "    return list(set(list1) & set(list2))\n",
        "\n",
        "# Example usage:\n",
        "list1 = [1, 2, 3, 4, 5]\n",
        "list2 = [4, 5, 6, 7, 8]\n",
        "result = intersection(list1, list2)\n",
        "print(result)"
      ],
      "metadata": {
        "colab": {
          "base_uri": "https://localhost:8080/"
        },
        "id": "1dg63VG_JALg",
        "outputId": "cab5b66c-45a0-44db-ab3f-e081ec919110"
      },
      "execution_count": null,
      "outputs": [
        {
          "output_type": "stream",
          "name": "stdout",
          "text": [
            "[4, 5]\n"
          ]
        }
      ]
    },
    {
      "cell_type": "markdown",
      "source": [
        "**Q19- Create a code to find the union of two lists without duplicates.**"
      ],
      "metadata": {
        "id": "8A9e1eLJJHvs"
      }
    },
    {
      "cell_type": "code",
      "source": [
        "def union(list1, list2):\n",
        "    return list(set(list1) | set(list2))\n",
        "\n",
        "# Example usage:\n",
        "list1 = [1, 2, 3, 4, 5]\n",
        "list2 = [4, 5, 6, 7, 8]\n",
        "result = union(list1, list2)\n",
        "print(result)"
      ],
      "metadata": {
        "colab": {
          "base_uri": "https://localhost:8080/"
        },
        "id": "NwSvAyYGKXye",
        "outputId": "83dc0346-977f-4044-cbc6-07a7a64c7437"
      },
      "execution_count": null,
      "outputs": [
        {
          "output_type": "stream",
          "name": "stdout",
          "text": [
            "[1, 2, 3, 4, 5, 6, 7, 8]\n"
          ]
        }
      ]
    },
    {
      "cell_type": "markdown",
      "source": [
        "**Q20- Write a code to shuffle a given list randomly without using any built-in shuffle functions.**"
      ],
      "metadata": {
        "id": "ydBuQnhXLB9S"
      }
    },
    {
      "cell_type": "code",
      "source": [
        "import random\n",
        "\n",
        "def shuffle_list(lst):\n",
        "    # Traverse the list in reverse order\n",
        "    for i in range(len(lst) - 1, 0, -1):\n",
        "        # Generate a random index from 0 to i\n",
        "        j = random.randint(0, i)\n",
        "        # Swap elements at index i and j\n",
        "        lst[i], lst[j] = lst[j], lst[i]\n",
        "    return lst\n",
        "\n",
        "# Example usage:\n",
        "my_list = [1, 2, 3, 4, 5]\n",
        "shuffled_list = shuffle_list(my_list.copy())  # Use copy to preserve the original list\n",
        "print(shuffled_list)"
      ],
      "metadata": {
        "colab": {
          "base_uri": "https://localhost:8080/"
        },
        "id": "vfgtj6KGLJqk",
        "outputId": "28125987-72f1-420b-c9a2-9b489505e95c"
      },
      "execution_count": null,
      "outputs": [
        {
          "output_type": "stream",
          "name": "stdout",
          "text": [
            "[2, 4, 1, 5, 3]\n"
          ]
        }
      ]
    },
    {
      "cell_type": "markdown",
      "source": [
        "**Q21- Write a code that takes two tuples as input and returns a new tuple containing elements that are common to both input tuples.**"
      ],
      "metadata": {
        "id": "NnpPMP_QLWLU"
      }
    },
    {
      "cell_type": "code",
      "source": [
        "def common_elements(tuple1, tuple2):\n",
        "    # Convert tuples to sets and find the intersection\n",
        "    common_set = set(tuple1) & set(tuple2)\n",
        "    # Convert the result back to a tuple and return\n",
        "    return tuple(common_set)\n",
        "\n",
        "# Example usage:\n",
        "tuple1 = (1, 2, 3, 4, 5)\n",
        "tuple2 = (4, 5, 6, 7, 8)\n",
        "result = common_elements(tuple1, tuple2)\n",
        "print(result)"
      ],
      "metadata": {
        "colab": {
          "base_uri": "https://localhost:8080/"
        },
        "id": "rouoAMiXLd9a",
        "outputId": "b4b3c3fe-c7e5-47b3-e3f0-eb00d001fe0b"
      },
      "execution_count": null,
      "outputs": [
        {
          "output_type": "stream",
          "name": "stdout",
          "text": [
            "(4, 5)\n"
          ]
        }
      ]
    },
    {
      "cell_type": "markdown",
      "source": [
        "**Q22- Create a code that prompts the user to enter two sets of integers separated by commas. Then, print the intersection of these two sets.**"
      ],
      "metadata": {
        "id": "lcrTi4sjLlWb"
      }
    },
    {
      "cell_type": "code",
      "source": [
        "def get_set_from_input(prompt):\n",
        "    # Prompt the user for input and convert the input to a set of integers\n",
        "    user_input = input(prompt)\n",
        "    return set(int(num.strip()) for num in user_input.split(','))\n",
        "\n",
        "def main():\n",
        "    # Get two sets from the user\n",
        "    set1 = get_set_from_input(\"Enter the first set of integers (separated by commas): \")\n",
        "    set2 = get_set_from_input(\"Enter the second set of integers (separated by commas): \")\n",
        "\n",
        "    # Calculate the intersection\n",
        "    intersection = set1 & set2\n",
        "\n",
        "    # Print the result\n",
        "    print(\"The intersection of the two sets is:\", intersection)\n",
        "\n",
        "if __name__ == \"__main__\":\n",
        "    main()"
      ],
      "metadata": {
        "colab": {
          "base_uri": "https://localhost:8080/"
        },
        "id": "xxRuZ0BgLu0M",
        "outputId": "cf65fbb6-5f9b-4271-bd77-7bbe8f23e17b"
      },
      "execution_count": null,
      "outputs": [
        {
          "output_type": "stream",
          "name": "stdout",
          "text": [
            "Enter the first set of integers (separated by commas): 3 , 4\n",
            "Enter the second set of integers (separated by commas): 1, 2, 3, 4\n",
            "The intersection of the two sets is: {3, 4}\n"
          ]
        }
      ]
    },
    {
      "cell_type": "markdown",
      "source": [
        "**Q23- Write a code to concatenate two tuples. The function should take two tuples as input and return a new tuple containing elements from both input tuples.**"
      ],
      "metadata": {
        "id": "W7Vm1svxMF9b"
      }
    },
    {
      "cell_type": "code",
      "source": [
        "def concatenate_tuples(tuple1, tuple2):\n",
        "    # Concatenate the two tuples and return the result\n",
        "    return tuple1 + tuple2\n",
        "\n",
        "# Example usage:\n",
        "tuple1 = (1, 2, 3)\n",
        "tuple2 = (4, 5, 6)\n",
        "result = concatenate_tuples(tuple1, tuple2)\n",
        "print(result)"
      ],
      "metadata": {
        "colab": {
          "base_uri": "https://localhost:8080/"
        },
        "id": "HrkSmXuTMMuP",
        "outputId": "aa05b44a-cf5e-423d-9ea7-8c2d78f21dfd"
      },
      "execution_count": null,
      "outputs": [
        {
          "output_type": "stream",
          "name": "stdout",
          "text": [
            "(1, 2, 3, 4, 5, 6)\n"
          ]
        }
      ]
    },
    {
      "cell_type": "markdown",
      "source": [
        "**Q24-  Develop a code that prompts the user to input two sets of strings. Then, print the elements that are present in the first set but not in the second set.**"
      ],
      "metadata": {
        "id": "5BfWklg-MTpd"
      }
    },
    {
      "cell_type": "code",
      "source": [
        "def get_set_from_input(prompt):\n",
        "    # Prompt the user for input and convert the input to a set of strings\n",
        "    user_input = input(prompt)\n",
        "    return set(s.strip() for s in user_input.split(','))\n",
        "\n",
        "def main():\n",
        "    # Get two sets from the user\n",
        "    set1 = get_set_from_input(\"Enter the first set of strings (separated by commas): \")\n",
        "    set2 = get_set_from_input(\"Enter the second set of strings (separated by commas): \")\n",
        "\n",
        "    # Find elements in set1 that are not in set2\n",
        "    difference = set1 - set2\n",
        "\n",
        "    # Print the result\n",
        "    print(\"Elements in the first set but not in the second set:\", difference)\n",
        "\n",
        "if __name__ == \"__main__\":\n",
        "    main()"
      ],
      "metadata": {
        "colab": {
          "base_uri": "https://localhost:8080/"
        },
        "id": "8VIc0nvaMcKM",
        "outputId": "91b54dee-0163-4b48-bfaa-c61012e09e9f"
      },
      "execution_count": null,
      "outputs": [
        {
          "output_type": "stream",
          "name": "stdout",
          "text": [
            "Enter the first set of strings (separated by commas): apple, banana, cherry\n",
            "Enter the second set of strings (separated by commas): banana, date\n",
            "Elements in the first set but not in the second set: {'apple', 'cherry'}\n"
          ]
        }
      ]
    },
    {
      "cell_type": "markdown",
      "source": [
        "**Q25-  Create a code that takes a tuple and two integers as input. The function should return a new tuple containing elements from the original tuple within the specified range of indices.**"
      ],
      "metadata": {
        "id": "Xaa1ZiZWMqOg"
      }
    },
    {
      "cell_type": "code",
      "source": [
        "def extract_range_from_tuple(original_tuple, start_index, end_index):\n",
        "    # Return a new tuple containing elements from the original tuple\n",
        "    return original_tuple[start_index:end_index]\n",
        "\n",
        "# Example usage:\n",
        "my_tuple = (10, 20, 30, 40, 50, 60, 70)\n",
        "start = 2\n",
        "end = 5\n",
        "result = extract_range_from_tuple(my_tuple, start, end)\n",
        "print(result)"
      ],
      "metadata": {
        "colab": {
          "base_uri": "https://localhost:8080/"
        },
        "id": "T23SC8g4M0D0",
        "outputId": "2fb61ddb-7e35-43e6-d165-52a8d4215648"
      },
      "execution_count": null,
      "outputs": [
        {
          "output_type": "stream",
          "name": "stdout",
          "text": [
            "(30, 40, 50)\n"
          ]
        }
      ]
    },
    {
      "cell_type": "markdown",
      "source": [
        "**Q26- Write a code that prompts the user to input two sets of characters. Then, print the union of these two sets.**"
      ],
      "metadata": {
        "id": "lU9kxGO-M9r5"
      }
    },
    {
      "cell_type": "code",
      "source": [
        "def get_set_from_input(prompt):\n",
        "    # Prompt the user for input and convert the input to a set of characters\n",
        "    user_input = input(prompt)\n",
        "    return set(char.strip() for char in user_input)\n",
        "\n",
        "def main():\n",
        "    # Get two sets from the user\n",
        "    set1 = get_set_from_input(\"Enter the first set of characters (separated by commas): \")\n",
        "    set2 = get_set_from_input(\"Enter the second set of characters (separated by commas): \")\n",
        "\n",
        "    # Calculate the union of the two sets\n",
        "    union_set = set1 | set2\n",
        "\n",
        "    # Print the result\n",
        "    print(\"The union of the two sets is:\", union_set)\n",
        "\n",
        "if __name__ == \"__main__\":\n",
        "    main()"
      ],
      "metadata": {
        "colab": {
          "base_uri": "https://localhost:8080/"
        },
        "id": "d5ejqh3wNE49",
        "outputId": "2f8150c2-5724-4e31-cce0-c263ae3ff92b"
      },
      "execution_count": null,
      "outputs": [
        {
          "output_type": "stream",
          "name": "stdout",
          "text": [
            "Enter the first set of characters (separated by commas): a, b, c\n",
            "Enter the second set of characters (separated by commas): c, d, e\n",
            "The union of the two sets is: {'', 'e', ',', 'c', 'a', 'b', 'd'}\n"
          ]
        }
      ]
    },
    {
      "cell_type": "markdown",
      "source": [
        "**Q27-  Develop a code that takes a tuple of integers as input. The function should return the maximum and minimum values from the tuple using tuple unpacking.**"
      ],
      "metadata": {
        "id": "zi7W7RE5NUis"
      }
    },
    {
      "cell_type": "code",
      "source": [
        "def min_max_from_tuple(int_tuple):\n",
        "    # Calculate the maximum and minimum values\n",
        "    max_value = max(int_tuple)\n",
        "    min_value = min(int_tuple)\n",
        "    return max_value, min_value  # Return as a tuple\n",
        "\n",
        "# Example usage:\n",
        "my_tuple = (5, 3, 9, 1, 7)\n",
        "max_value, min_value = min_max_from_tuple(my_tuple)\n",
        "print(\"Maximum value:\", max_value)\n",
        "print(\"Minimum value:\", min_value)"
      ],
      "metadata": {
        "colab": {
          "base_uri": "https://localhost:8080/"
        },
        "id": "IdWLlvLLNcIJ",
        "outputId": "00c945ab-b46b-4b98-db13-4c4b78e5fc8e"
      },
      "execution_count": null,
      "outputs": [
        {
          "output_type": "stream",
          "name": "stdout",
          "text": [
            "Maximum value: 9\n",
            "Minimum value: 1\n"
          ]
        }
      ]
    },
    {
      "cell_type": "markdown",
      "source": [
        "**Q28- Create a code that defines two sets of integers. Then, print the union, intersection, and difference of these two sets.**"
      ],
      "metadata": {
        "id": "VgY67bhTNkBu"
      }
    },
    {
      "cell_type": "code",
      "source": [
        "# Define two sets of integers\n",
        "set1 = {1, 2, 3, 4, 5}\n",
        "set2 = {4, 5, 6, 7, 8}\n",
        "\n",
        "# Calculate union, intersection, and difference\n",
        "union_set = set1 | set2\n",
        "intersection_set = set1 & set2\n",
        "difference_set = set1 - set2\n",
        "\n",
        "# Print the results\n",
        "print(\"Set 1:\", set1)\n",
        "print(\"Set 2:\", set2)\n",
        "print(\"Union:\", union_set)              # Elements in either set\n",
        "print(\"Intersection:\", intersection_set)  # Elements in both sets\n",
        "print(\"Difference (Set 1 - Set 2):\", difference_set)  # Elements in Set 1 not in Set 2"
      ],
      "metadata": {
        "colab": {
          "base_uri": "https://localhost:8080/"
        },
        "id": "rNKf3FWXNryW",
        "outputId": "c6daaed5-c178-40c2-db63-dcffb6311e77"
      },
      "execution_count": null,
      "outputs": [
        {
          "output_type": "stream",
          "name": "stdout",
          "text": [
            "Set 1: {1, 2, 3, 4, 5}\n",
            "Set 2: {4, 5, 6, 7, 8}\n",
            "Union: {1, 2, 3, 4, 5, 6, 7, 8}\n",
            "Intersection: {4, 5}\n",
            "Difference (Set 1 - Set 2): {1, 2, 3}\n"
          ]
        }
      ]
    },
    {
      "cell_type": "markdown",
      "source": [
        "**Q29- Write a code that takes a tuple and an element as input. The function should return the count of occurrences of the given element in the tuple.**"
      ],
      "metadata": {
        "id": "7uigBvgjN3CK"
      }
    },
    {
      "cell_type": "code",
      "source": [
        "def count_occurrences(input_tuple, element):\n",
        "    # Return the count of occurrences of the element in the tuple\n",
        "    return input_tuple.count(element)\n",
        "\n",
        "# Example usage:\n",
        "my_tuple = (1, 2, 3, 4, 5, 3, 2, 3)\n",
        "element_to_count = 3\n",
        "count = count_occurrences(my_tuple, element_to_count)\n",
        "print(f\"The element {element_to_count} occurs {count} times in the tuple.\")"
      ],
      "metadata": {
        "colab": {
          "base_uri": "https://localhost:8080/"
        },
        "id": "a9VxBgj4N-ql",
        "outputId": "91fca19c-2916-4a3a-cb62-064f2d0e8c65"
      },
      "execution_count": null,
      "outputs": [
        {
          "output_type": "stream",
          "name": "stdout",
          "text": [
            "The element 3 occurs 3 times in the tuple.\n"
          ]
        }
      ]
    },
    {
      "cell_type": "markdown",
      "source": [
        "**Q30- Develop a code that prompts the user to input two sets of strings. Then, print the symmetric difference of these two sets.**"
      ],
      "metadata": {
        "id": "Np1zLu-FOFzc"
      }
    },
    {
      "cell_type": "code",
      "source": [
        "def get_set_from_input(prompt):\n",
        "    # Prompt the user for input and convert the input to a set of strings\n",
        "    user_input = input(prompt)\n",
        "    return set(s.strip() for s in user_input.split(','))\n",
        "\n",
        "def main():\n",
        "    # Get two sets from the user\n",
        "    set1 = get_set_from_input(\"Enter the first set of strings (separated by commas): \")\n",
        "    set2 = get_set_from_input(\"Enter the second set of strings (separated by commas): \")\n",
        "\n",
        "    # Calculate the symmetric difference of the two sets\n",
        "    symmetric_difference = set1 ^ set2\n",
        "\n",
        "    # Print the result\n",
        "    print(\"The symmetric difference of the two sets is:\", symmetric_difference)\n",
        "\n",
        "if __name__ == \"__main__\":\n",
        "    main()"
      ],
      "metadata": {
        "colab": {
          "base_uri": "https://localhost:8080/"
        },
        "id": "HURGupb8OZRj",
        "outputId": "b6adb2c1-7a67-47cd-f01f-5ceaef7324d6"
      },
      "execution_count": null,
      "outputs": [
        {
          "output_type": "stream",
          "name": "stdout",
          "text": [
            "Enter the first set of strings (separated by commas): apple, banana, cherry\n",
            "Enter the second set of strings (separated by commas): banana, date\n",
            "The symmetric difference of the two sets is: {'apple', 'date', 'cherry'}\n"
          ]
        }
      ]
    },
    {
      "cell_type": "markdown",
      "source": [
        "**Q31- Write a code that takes a list of words as input and returns a dictionary where the keys are unique words and the values are the frequencies of those words in the input list.**"
      ],
      "metadata": {
        "id": "QWoja3R3OmYa"
      }
    },
    {
      "cell_type": "code",
      "source": [
        "def word_frequencies(words):\n",
        "    frequency_dict = {}\n",
        "    for word in words:\n",
        "        # Increment the count for the word in the dictionary\n",
        "        if word in frequency_dict:\n",
        "            frequency_dict[word] += 1\n",
        "        else:\n",
        "            frequency_dict[word] = 1\n",
        "    return frequency_dict\n",
        "\n",
        "# Example usage:\n",
        "input_words = input(\"Enter a list of words separated by spaces: \").split()\n",
        "result = word_frequencies(input_words)\n",
        "print(\"Word Frequencies:\", result)"
      ],
      "metadata": {
        "colab": {
          "base_uri": "https://localhost:8080/"
        },
        "id": "4PCTA7NvO6Vt",
        "outputId": "31f91e35-72ab-4424-b550-927643474471"
      },
      "execution_count": null,
      "outputs": [
        {
          "output_type": "stream",
          "name": "stdout",
          "text": [
            "Enter a list of words separated by spaces: apple banana apple cherry banana apple\n",
            "Word Frequencies: {'apple': 3, 'banana': 2, 'cherry': 1}\n"
          ]
        }
      ]
    },
    {
      "cell_type": "markdown",
      "source": [
        "**Q32- Write a code that takes two dictionaries as input and merges them into a single dictionary. If there are common keys, the values should be added together.**"
      ],
      "metadata": {
        "id": "EfUJbR23PKNz"
      }
    },
    {
      "cell_type": "code",
      "source": [
        "def merge_dictionaries(dict1, dict2):\n",
        "    merged_dict = dict1.copy()  # Create a copy of the first dictionary\n",
        "    for key, value in dict2.items():\n",
        "        if key in merged_dict:\n",
        "            merged_dict[key] += value  # Add values for common keys\n",
        "        else:\n",
        "            merged_dict[key] = value  # Add new key-value pairs\n",
        "    return merged_dict\n",
        "\n",
        "# Example usage:\n",
        "dict1 = {'a': 1, 'b': 2, 'c': 3}\n",
        "dict2 = {'b': 3, 'c': 4, 'd': 5}\n",
        "\n",
        "result = merge_dictionaries(dict1, dict2)\n",
        "print(\"Merged Dictionary:\", result)"
      ],
      "metadata": {
        "colab": {
          "base_uri": "https://localhost:8080/"
        },
        "id": "TrxmOs0OPUPx",
        "outputId": "5b3cb4dd-b074-41c1-dd0f-20dcae458b90"
      },
      "execution_count": null,
      "outputs": [
        {
          "output_type": "stream",
          "name": "stdout",
          "text": [
            "Merged Dictionary: {'a': 1, 'b': 5, 'c': 7, 'd': 5}\n"
          ]
        }
      ]
    },
    {
      "cell_type": "markdown",
      "source": [
        "**Q33- Write a code to access a value in a nested dictionary. The function should take the dictionary and a list of\n",
        "keys as input, and return the corresponding value. If any of the keys do not exist in the dictionary, the\n",
        "function should return None.**"
      ],
      "metadata": {
        "id": "YoLCfibHPduc"
      }
    },
    {
      "cell_type": "code",
      "source": [
        "def access_nested_value(nested_dict, keys):\n",
        "    current = nested_dict\n",
        "    for key in keys:\n",
        "        if key in current:\n",
        "            current = current[key]  # Move deeper into the nested dictionary\n",
        "        else:\n",
        "            return None  # Return None if the key doesn't exist\n",
        "    return current  # Return the final value if all keys are found\n",
        "\n",
        "# Example usage:\n",
        "nested_dict = {\n",
        "    'a': {\n",
        "        'b': {\n",
        "            'c': 1\n",
        "        },\n",
        "        'd': 2\n",
        "    },\n",
        "    'e': 3\n",
        "}\n",
        "\n",
        "keys_to_access = ['a', 'b', 'c']\n",
        "result = access_nested_value(nested_dict, keys_to_access)\n",
        "print(\"Accessed Value:\", result)  # Output: Accessed Value: 1\n",
        "\n",
        "# Testing with a non-existent key\n",
        "keys_to_access_invalid = ['a', 'b', 'x']\n",
        "result_invalid = access_nested_value(nested_dict, keys_to_access_invalid)\n",
        "print(\"Accessed Value:\", result_invalid)"
      ],
      "metadata": {
        "colab": {
          "base_uri": "https://localhost:8080/"
        },
        "id": "YZyVtW8kPljF",
        "outputId": "ec892c49-693a-4efb-ec49-5ad5c7c62ea1"
      },
      "execution_count": null,
      "outputs": [
        {
          "output_type": "stream",
          "name": "stdout",
          "text": [
            "Accessed Value: 1\n",
            "Accessed Value: None\n"
          ]
        }
      ]
    },
    {
      "cell_type": "markdown",
      "source": [
        "**Q34-  Write a code that takes a dictionary as input and returns a sorted version of it based on the values. You\n",
        "can choose whether to sort in ascending or descending order.**"
      ],
      "metadata": {
        "id": "dfDm8yGRPsX9"
      }
    },
    {
      "cell_type": "code",
      "source": [
        "def sort_dict_by_values(input_dict, descending=False):\n",
        "    # Sort the dictionary by values and return as a new dictionary\n",
        "    sorted_dict = dict(sorted(input_dict.items(), key=lambda item: item[1], reverse=descending))\n",
        "    return sorted_dict\n",
        "\n",
        "# Example usage:\n",
        "my_dict = {'a': 3, 'b': 1, 'c': 2}\n",
        "\n",
        "# Sort in ascending order\n",
        "sorted_ascending = sort_dict_by_values(my_dict)\n",
        "print(\"Sorted in Ascending Order:\", sorted_ascending)\n",
        "\n",
        "# Sort in descending order\n",
        "sorted_descending = sort_dict_by_values(my_dict, descending=True)\n",
        "print(\"Sorted in Descending Order:\", sorted_descending)"
      ],
      "metadata": {
        "colab": {
          "base_uri": "https://localhost:8080/"
        },
        "id": "Vn9ubnhkPzio",
        "outputId": "a0325feb-223c-4e8f-dbce-2787c468fc46"
      },
      "execution_count": null,
      "outputs": [
        {
          "output_type": "stream",
          "name": "stdout",
          "text": [
            "Sorted in Ascending Order: {'b': 1, 'c': 2, 'a': 3}\n",
            "Sorted in Descending Order: {'a': 3, 'c': 2, 'b': 1}\n"
          ]
        }
      ]
    },
    {
      "cell_type": "markdown",
      "source": [
        "**Q35- Write a code that inverts a dictionary, swapping keys and values. Ensure that the inverted dictionary\n",
        "correctly handles cases where multiple keys have the same value by storing the keys as a list in the\n",
        "inverted dictionary.**"
      ],
      "metadata": {
        "id": "J6HM4TsvP_I5"
      }
    },
    {
      "cell_type": "code",
      "source": [
        "def invert_dictionary(original_dict):\n",
        "    inverted_dict = {}\n",
        "    for key, value in original_dict.items():\n",
        "        if value in inverted_dict:\n",
        "            # If the value is already a key, append the current key to the list\n",
        "            inverted_dict[value].append(key)\n",
        "        else:\n",
        "            # Otherwise, create a new entry with the current key as a list\n",
        "            inverted_dict[value] = [key]\n",
        "    return inverted_dict\n",
        "\n",
        "# Example usage:\n",
        "my_dict = {'a': 1, 'b': 2, 'c': 1, 'd': 3}\n",
        "\n",
        "inverted = invert_dictionary(my_dict)\n",
        "print(\"Inverted Dictionary:\", inverted)"
      ],
      "metadata": {
        "colab": {
          "base_uri": "https://localhost:8080/"
        },
        "id": "pgpEPtXUQHg1",
        "outputId": "df0f8817-2356-4a45-aef4-61171d5e547a"
      },
      "execution_count": null,
      "outputs": [
        {
          "output_type": "stream",
          "name": "stdout",
          "text": [
            "Inverted Dictionary: {1: ['a', 'c'], 2: ['b'], 3: ['d']}\n"
          ]
        }
      ]
    }
  ]
}